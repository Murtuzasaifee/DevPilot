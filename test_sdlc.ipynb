{
 "cells": [
  {
   "cell_type": "code",
   "execution_count": 1,
   "metadata": {},
   "outputs": [
    {
     "data": {
      "text/plain": [
       "AIMessage(content='Hello! How can I help you today?', additional_kwargs={}, response_metadata={'prompt_feedback': {'block_reason': 0, 'safety_ratings': []}, 'finish_reason': 'STOP', 'model_name': 'gemini-2.0-flash', 'safety_ratings': []}, id='run-7e41a88c-b98e-4f16-b405-7cfb324bf4d6-0', usage_metadata={'input_tokens': 1, 'output_tokens': 10, 'total_tokens': 11, 'input_token_details': {'cache_read': 0}})"
      ]
     },
     "execution_count": 1,
     "metadata": {},
     "output_type": "execute_result"
    }
   ],
   "source": [
    "import os\n",
    "from dotenv import load_dotenv\n",
    "\n",
    "load_dotenv()\n",
    "\n",
    "api_key =os.getenv(\"GEMINI_API_KEY\")\n",
    "\n",
    "from langchain_google_genai import ChatGoogleGenerativeAI\n",
    "\n",
    "llm = ChatGoogleGenerativeAI(api_key= api_key, model=\"gemini-2.0-flash\")\n",
    "result=llm.invoke(\"Hello\")\n",
    "result"
   ]
  },
  {
   "cell_type": "code",
   "execution_count": 2,
   "metadata": {},
   "outputs": [],
   "source": [
    "from pydantic import BaseModel, Field\n",
    "from typing import TypedDict, Any, Dict, Literal, Optional\n",
    "import json\n",
    "import src.sdlc_automation_agent.utils.constants as const\n",
    "\n",
    "    \n",
    "class UserStories(BaseModel):\n",
    "    id: int = Field(...,description=\"The unique identifier of the user story\")\n",
    "    title: str = Field(...,description=\"The title of the user story\")\n",
    "    description: str = Field(...,description=\"The description of the user story\")\n",
    "    priority: int = Field(...,description=\"The priority of the user story\")\n",
    "    acceptance_criteria: str = Field(...,description=\"The acceptance criteria of the user story\")\n",
    "\n",
    "class UserStoryList(BaseModel):\n",
    "    user_stories: list[UserStories]\n",
    "    \n",
    "class SDLCState(TypedDict):\n",
    "    \"\"\"\n",
    "    Represents the structure of the state used in the SDLC graph\n",
    "\n",
    "    \"\"\"    \n",
    "    project_name: str\n",
    "    requirements: list[str]\n",
    "    user_stories: UserStoryList\n",
    "    current_node: str = const.PROJECT_INITILIZATION\n",
    "    \n",
    "    \n",
    "    \n",
    "class CustomEncoder(json.JSONEncoder):\n",
    "    def default(self, obj):\n",
    "        # Check if the object is any kind of Pydantic model\n",
    "        if isinstance(obj, BaseModel):\n",
    "            return obj.model_dump()\n",
    "        # Or check for specific classes if needed\n",
    "        # if isinstance(obj, UserStories) or isinstance(obj, DesignDocument):\n",
    "        #     return obj.model_dump()\n",
    "        return super().default(obj)\n",
    "    \n",
    "\n",
    "    "
   ]
  },
  {
   "cell_type": "code",
   "execution_count": 3,
   "metadata": {},
   "outputs": [],
   "source": [
    "def initialize_project(state: SDLCState):\n",
    "        \"\"\"\n",
    "            Performs the project initilazation\n",
    "        \"\"\"\n",
    "        state['current_node'] = 'project_initilization'\n",
    "        return state\n",
    "    \n",
    "def get_user_requirements(state: SDLCState):\n",
    "    \"\"\"\n",
    "        Gets the requirements from the user\n",
    "    \"\"\"\n",
    "    return state\n",
    "\n",
    "def generate_user_stories(state: SDLCState):\n",
    "    \"\"\"\n",
    "    Auto-generate highly detailed and accurate user stories for each requirement.\n",
    "    \"\"\"\n",
    "    project_name = state[\"project_name\"]\n",
    "    requirements = state[\"requirements\"]\n",
    "    feedback_reason = None\n",
    "\n",
    "    prompt = f\"\"\"\n",
    "    You are a senior software analyst specializing in Agile SDLC and user story generation. \n",
    "    Your task is to generate **a separate and detailed user story for EACH requirement** from the project details below.\n",
    "\n",
    "    ---\n",
    "    **Project Name:** \"{project_name}\"\n",
    "\n",
    "    **Requirements:** \"{requirements}\n",
    "\n",
    "    ---\n",
    "    **Instructions for User Story Generation:**\n",
    "    - Create **one user story per requirement**.\n",
    "    - Assign a **unique identifier** (e.g., US-001, US-002, etc.).\n",
    "    - Provide a **clear and concise title** summarizing the user story.\n",
    "    - Write a **detailed description** using the \"As a [user role], I want [goal] so that [benefit]\" format.\n",
    "    - Assign a **priority level** (1 = Critical, 2 = High, 3 = Medium, 4 = Low).\n",
    "    - Define **acceptance criteria** with bullet points to ensure testability.\n",
    "    - Use **domain-specific terminology** for clarity.\n",
    "    \n",
    "    {f\"Additionally, consider the following feedback while refining the user stories: {feedback_reason}\" if feedback_reason else \"\"}\n",
    "\n",
    "    ---\n",
    "    **Expected Output Format (for each user story):**\n",
    "    - Unique Identifier: US-XXX\n",
    "    - Title: [User Story Title]\n",
    "    - Description:  \n",
    "    - As a [user role], I want [feature] so that [benefit].\n",
    "    - Priority: [1-4]\n",
    "    - Acceptance Criteria:\n",
    "    - [Criteria 1]\n",
    "    - [Criteria 2]\n",
    "    - [Criteria 3]\n",
    "\n",
    "    Ensure that the user stories are **specific, testable, and aligned with Agile principles**.\n",
    "    \"\"\"\n",
    "\n",
    "    llm_with_structured = llm.with_structured_output(UserStoryList)\n",
    "    response = llm_with_structured.invoke(prompt)\n",
    "    state[\"user_stories\"] = response\n",
    "    return state"
   ]
  },
  {
   "cell_type": "code",
   "execution_count": 6,
   "metadata": {},
   "outputs": [
    {
     "data": {
      "image/png": "[encoded data removed]",
      "text/plain": [
       "<IPython.core.display.Image object>"
      ]
     },
     "execution_count": 6,
     "metadata": {},
     "output_type": "execute_result"
    }
   ],
   "source": [
    "from langgraph.graph import StateGraph,START, END, MessagesState\n",
    "from IPython.display import Image, display\n",
    "from langgraph.checkpoint.memory import MemorySaver\n",
    "from langchain_core.runnables.graph import CurveStyle, MermaidDrawMethod, NodeStyles\n",
    "\n",
    "\n",
    "graph_builder = StateGraph(SDLCState)\n",
    "\n",
    "## Nodes\n",
    "graph_builder.add_node(\"initialize_project\", initialize_project)\n",
    "graph_builder.add_node(\"get_user_requirements\", get_user_requirements)\n",
    "graph_builder.add_node(\"generate_user_stories\", generate_user_stories)\n",
    "# self.graph_builder.add_node(\"review_user_stories\", self.project_requirement_node.review_user_stories)\n",
    "# self.graph_builder.add_node(\"create_design_document\", self.design_document_node.create_design_document)\n",
    "\n",
    "## Edges\n",
    "graph_builder.add_edge(START,\"initialize_project\")\n",
    "graph_builder.add_edge(\"initialize_project\",\"get_user_requirements\")\n",
    "graph_builder.add_edge(\"get_user_requirements\",\"generate_user_stories\")\n",
    "graph_builder.add_edge(\"generate_user_stories\",END)\n",
    "\n",
    "memory = MemorySaver()\n",
    "graph =graph_builder.compile(\n",
    "            interrupt_before=[\n",
    "                'get_user_requirements'\n",
    "            ],checkpointer= memory\n",
    "        )\n",
    "\n",
    "# ✅ Generate the PNG image\n",
    "img_data = graph.get_graph().draw_mermaid_png( draw_method=MermaidDrawMethod.API)\n",
    "\n",
    "# ✅ Save the image to a file\n",
    "graph_path = \"workflow_graph.png\"\n",
    "with open(graph_path, \"wb\") as f:\n",
    "    f.write(img_data)\n",
    "\n",
    "# ✅ Display the saved image in Jupyter Notebook\n",
    "Image(graph_path)"
   ]
  },
  {
   "cell_type": "code",
   "execution_count": null,
   "metadata": {},
   "outputs": [
    {
     "name": "stdout",
     "output_type": "stream",
     "text": [
      "Event Received: {'project_name': 'My Project', 'requirements': ['- Requirement 1', '- Requirement 2'], 'current_node': 'project_initilization'}\n",
      "Event Received: {'project_name': 'My Project', 'requirements': ['- Requirement 1', '- Requirement 2'], 'current_node': 'project_initilization'}\n",
      "Event Received: {'project_name': 'My Project', 'requirements': ['- Requirement 1', '- Requirement 2'], 'current_node': 'project_initilization'}\n",
      "Event Received: {'project_name': 'My Project', 'requirements': ['- Requirement 1', '- Requirement 2'], 'user_stories': UserStoryList(user_stories=[UserStories(id=1, title='User Login', description='As a registered user, I want to log in to the system so that I can access my account and its features.', priority=1, acceptance_criteria='The system should allow users to log in with valid credentials.\\nThe system should display an error message for invalid credentials.\\nThe system should redirect the user to the dashboard upon successful login.'), UserStories(id=2, title='View Product List', description='As a customer, I want to view a list of products so that I can find and select the products I want to purchase.', priority=2, acceptance_criteria='The system should allow users to view a list of available products.\\nThe system should display product names, descriptions, and prices.\\nThe system should allow users to sort products by price or rating.')]), 'current_node': 'project_initilization'}\n"
     ]
    }
   ],
   "source": [
    "initial_state = SDLCState(\n",
    "    project_name=\"My Project\", \n",
    "    requirements=[\"- Requirement 1\", \"- Requirement 2\"]\n",
    "    )\n",
    "\n",
    "input1 =  SDLCState(\n",
    "    project_name=\"My Project\"\n",
    "    )\n",
    "\n",
    "thread = {\"configurable\": {\"thread_id\": \"1\"}}\n",
    "\n",
    "# Run the graph until the first interruption\n",
    "for event in graph.stream({\"project_name\": \"My Project\"}, thread, stream_mode=\"values\"):\n",
    "     print(f\"Event Received: {event}\")\n",
    "\n",
    "graph.update_state(thread, initial_state, as_node=\"get_user_requirements\")\n",
    "\n",
    "for event in graph.stream(None, thread, stream_mode=\"values\"):\n",
    "    print(f\"Event Received: {event}\")"
   ]
  },
  {
   "cell_type": "code",
   "execution_count": null,
   "metadata": {},
   "outputs": [],
   "source": []
  }
 ],
 "metadata": {
  "kernelspec": {
   "display_name": "Python 3",
   "language": "python",
   "name": "python3"
  },
  "language_info": {
   "codemirror_mode": {
    "name": "ipython",
    "version": 3
   },
   "file_extension": ".py",
   "mimetype": "text/x-python",
   "name": "python",
   "nbconvert_exporter": "python",
   "pygments_lexer": "ipython3",
   "version": "3.12.0"
  }
 },
 "nbformat": 4,
 "nbformat_minor": 2
}
