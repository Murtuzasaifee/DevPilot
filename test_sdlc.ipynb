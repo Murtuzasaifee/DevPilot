{
 "cells": [
  {
   "cell_type": "code",
   "execution_count": 12,
   "metadata": {},
   "outputs": [
    {
     "data": {
      "text/plain": [
       "AIMessage(content='Hello there! How can I help you today?', additional_kwargs={}, response_metadata={'prompt_feedback': {'block_reason': 0, 'safety_ratings': []}, 'finish_reason': 'STOP', 'model_name': 'gemini-2.0-flash', 'safety_ratings': []}, id='run-d8f0c5fa-c86e-4e25-a879-005b4733b6c5-0', usage_metadata={'input_tokens': 1, 'output_tokens': 11, 'total_tokens': 12, 'input_token_details': {'cache_read': 0}})"
      ]
     },
     "execution_count": 12,
     "metadata": {},
     "output_type": "execute_result"
    }
   ],
   "source": [
    "import os\n",
    "from dotenv import load_dotenv\n",
    "\n",
    "load_dotenv()\n",
    "\n",
    "api_key =os.getenv(\"GEMINI_API_KEY\")\n",
    "\n",
    "from langchain_google_genai import ChatGoogleGenerativeAI\n",
    "\n",
    "llm = ChatGoogleGenerativeAI(api_key= api_key, model=\"gemini-2.0-flash\")\n",
    "result=llm.invoke(\"Hello\")\n",
    "result"
   ]
  },
  {
   "cell_type": "code",
   "execution_count": 13,
   "metadata": {},
   "outputs": [],
   "source": [
    "from pydantic import BaseModel, Field\n",
    "from typing import TypedDict, Any, Dict, Literal, Optional\n",
    "import json\n",
    "\n",
    "    \n",
    "class UserStories(BaseModel):\n",
    "    title: str = Field(...,description=\"The title of the user story\")\n",
    "    description: str = Field(...,description=\"The description of the user story\")\n",
    "    priority: int = Field(...,description=\"The priority of the user story\")\n",
    "    acceptance_criteria: str = Field(...,description=\"The acceptance criteria of the user story\")\n",
    "    \n",
    "    \n",
    "class SDLCState(TypedDict):\n",
    "    \"\"\"\n",
    "    Represents the structure of the state used in the SDLC graph\n",
    "\n",
    "    \"\"\"    \n",
    "    project_name: str\n",
    "    requirements: list[str]\n",
    "    user_stories: list[UserStories]"
   ]
  },
  {
   "cell_type": "code",
   "execution_count": 14,
   "metadata": {},
   "outputs": [],
   "source": [
    "def generate_user_stories(state:SDLCState):\n",
    "        \"\"\"\n",
    "            Auto generate the user stories based on the user requirements provided\n",
    "        \"\"\"\n",
    "        project_name = state['project_name']\n",
    "        requirements = state['requirements']\n",
    "        feedback_reason = None\n",
    "        \n",
    "        prompt = f\"\"\"\n",
    "        You are an expert in software development and requirements analysis. Based on the project name \"{project_name}\" and the following requirement:\n",
    "        - {requirements}\n",
    "\n",
    "        Please generate a user story in Markdown format. The user story should include:\n",
    "        - A unique identifier\n",
    "        - A title\n",
    "        - A detailed description\n",
    "        - Acceptance criteria\n",
    "\n",
    "        {f\"When creating this user story, please incorporate the following feedback about the requirements: {feedback_reason}\" if feedback_reason else \"\"}\n",
    "\n",
    "        Format the user story as a bullet point.\n",
    "        \"\"\"\n",
    "        system_message = prompt.format(project_name= project_name, requirement= requirements)\n",
    "        llm_with_structured = llm.with_structured_output(UserStories)\n",
    "        response = llm_with_structured.invoke(system_message)\n",
    "        state[\"user_stories\"] = response\n",
    "        return state"
   ]
  },
  {
   "cell_type": "code",
   "execution_count": 15,
   "metadata": {},
   "outputs": [
    {
     "data": {
      "image/png": "[encoded data removed]",
      "text/plain": [
       "<IPython.core.display.Image object>"
      ]
     },
     "execution_count": 15,
     "metadata": {},
     "output_type": "execute_result"
    }
   ],
   "source": [
    "from langgraph.graph import StateGraph,START, END, MessagesState\n",
    "from IPython.display import Image, display\n",
    "\n",
    "graph_builder = StateGraph(SDLCState)\n",
    "        \n",
    "## Node\n",
    "graph_builder.add_node(\"generate_user_stories\", generate_user_stories)\n",
    "\n",
    "## Edges\n",
    "graph_builder.add_edge(START,\"generate_user_stories\")\n",
    "graph_builder.add_edge(\"generate_user_stories\",END)\n",
    "\n",
    "graph = graph_builder.compile()\n",
    "\n",
    "# ✅ Generate the PNG image\n",
    "img_data = graph.get_graph().draw_mermaid_png()\n",
    "\n",
    "# ✅ Save the image to a file\n",
    "graph_path = \"workflow_graph.png\"\n",
    "with open(graph_path, \"wb\") as f:\n",
    "    f.write(img_data)\n",
    "\n",
    "# ✅ Display the saved image in Jupyter Notebook\n",
    "Image(graph_path)"
   ]
  },
  {
   "cell_type": "code",
   "execution_count": 17,
   "metadata": {},
   "outputs": [
    {
     "name": "stdout",
     "output_type": "stream",
     "text": [
      "{'project_name': 'My Project', 'requirements': ['- Requirement 1', '- Requirement 2'], 'user_stories': UserStories(title='User can achieve a goal', description='As a user, I want to be able to achieve a specific goal so that I can realize a benefit.', priority=1, acceptance_criteria='Requirement 1, Requirement 2')}\n"
     ]
    }
   ],
   "source": [
    "initial_state = SDLCState(\n",
    "    project_name=\"My Project\", \n",
    "    requirements=[\"- Requirement 1\", \"- Requirement 2\"]\n",
    "    )\n",
    "\n",
    "state = graph.invoke({\"project_name\":\"My Project\", \"requirements\":[\"- Requirement 1\", \"- Requirement 2\"]})\n",
    "print(state)"
   ]
  },
  {
   "cell_type": "code",
   "execution_count": null,
   "metadata": {},
   "outputs": [],
   "source": []
  }
 ],
 "metadata": {
  "kernelspec": {
   "display_name": "Python 3",
   "language": "python",
   "name": "python3"
  },
  "language_info": {
   "codemirror_mode": {
    "name": "ipython",
    "version": 3
   },
   "file_extension": ".py",
   "mimetype": "text/x-python",
   "name": "python",
   "nbconvert_exporter": "python",
   "pygments_lexer": "ipython3",
   "version": "3.12.0"
  }
 },
 "nbformat": 4,
 "nbformat_minor": 2
}
